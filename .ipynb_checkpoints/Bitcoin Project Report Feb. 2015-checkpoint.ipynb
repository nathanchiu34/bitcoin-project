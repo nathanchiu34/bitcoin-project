{
 "metadata": {
  "name": "",
  "signature": "sha256:06bd3af82d74dd93a6603525f48b5ce1bd44662eedd6e9d8f79f7b2e21c45a71"
 },
 "nbformat": 3,
 "nbformat_minor": 0,
 "worksheets": [
  {
   "cells": [
    {
     "cell_type": "heading",
     "level": 3,
     "metadata": {},
     "source": [
      "Bitcoin Project Feb. 2015"
     ]
    },
    {
     "cell_type": "markdown",
     "metadata": {},
     "source": [
      "Nathan Chiu\n",
      "Bitcoin Project 2015 \n",
      "\n",
      "This is my first ever experience with iPython! I am a current student who is interested in discovering more about the Bitcoin market. Every serious Bitcoin investor has certain questions about Bitcoin. Mine happens to be if we can predict Bitcoin prices with its young historical data source.\n",
      "\n",
      "In my first ever iPython notebook, we are going to examine some relationships between Bitcoin and S&P 500.\n",
      "Let's first declare proper packages and import Quandl "
     ]
    },
    {
     "cell_type": "code",
     "collapsed": false,
     "input": [
      "import Quandl\n",
      "import numpy as np\n",
      "import pandas as pd\n",
      "import matplotlib.pyplot as plt"
     ],
     "language": "python",
     "metadata": {},
     "outputs": [],
     "prompt_number": 1
    },
    {
     "cell_type": "markdown",
     "metadata": {},
     "source": []
    }
   ],
   "metadata": {}
  }
 ]
}