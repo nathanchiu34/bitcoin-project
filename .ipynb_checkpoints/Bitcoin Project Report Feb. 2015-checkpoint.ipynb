{
 "metadata": {
  "name": "",
  "signature": "sha256:0d7b848db49858dbdfc1bc1df6bff119f5bae0984b44025f5b5e2928032b8355"
 },
 "nbformat": 3,
 "nbformat_minor": 0,
 "worksheets": [
  {
   "cells": [
    {
     "cell_type": "heading",
     "level": 3,
     "metadata": {},
     "source": [
      "Bitcoin Project Feb. 2015 -\n",
      "Nathan Chiu - \n",
      "2/2/2015"
     ]
    },
    {
     "cell_type": "markdown",
     "metadata": {},
     "source": [
      "Bitcoin Project 2015 \n",
      "\n",
      "This is my first ever experience with iPython! I am a current student who is interested in discovering more about the Bitcoin market. Every serious Bitcoin investor has certain questions about Bitcoin. Mine happens to be if we can predict Bitcoin prices with its young historical data source.\n",
      "\n",
      "In my first ever iPython notebook, we are going to examine some relationships between Bitcoin and S&P 500. As a disclaimer, I don't intend to blow you away or impress you with this project; this is more to give myself a feel for this Python data analysis game more than anything. But hey, if you're reading this, I hope you like it anyways!\n",
      "Let's first declare proper packages and import Quandl:"
     ]
    },
    {
     "cell_type": "code",
     "collapsed": false,
     "input": [
      "import Quandl\n",
      "import numpy as np\n",
      "import pandas as pd\n",
      "import matplotlib.pyplot as plt"
     ],
     "language": "python",
     "metadata": {},
     "outputs": [],
     "prompt_number": 1
    },
    {
     "cell_type": "markdown",
     "metadata": {},
     "source": [
      "Awesome! From Quandl, let's import the data sets from their expansive data base.\n",
      "\n",
      "For this simple project, we are going to import S&P 500 data along with Bitcoin data. There are a lot of Bitcoin charts out there, but it was a matter of finding Bitcoin data with data from 2012 to at least 2014. \n",
      "\n",
      "Let's take a look at somet of the data we have:\n"
     ]
    },
    {
     "cell_type": "code",
     "collapsed": false,
     "input": [
      "df_bitcoin = Quandl.get(\"BCHARTS/LOCALBTCUSD\")\n",
      "df_sp500 = Quandl.get(\"YAHOO/INDEX_GSPC\",authtoken=\"P5_mu65sQdbNKTppzVE8\")\n",
      "\n",
      "print \"BITCOIN DATA\"\n",
      "print df_bitcoin.head()\n",
      "print \"  \"\n",
      "print \"S&P 500 DATA\"\n",
      "print df_sp500.head()\n"
     ],
     "language": "python",
     "metadata": {},
     "outputs": [
      {
       "output_type": "stream",
       "stream": "stdout",
       "text": [
        "BITCOIN DATA\n",
        "             Open   High    Low  Close  Volume (BTC)  Volume (Currency)  \\\n",
        "Date                                                                      \n",
        "2013-03-11  72.00  72.00  72.00  72.00        4.9999         359.992800   \n",
        "2013-03-12  67.79  67.79  67.79  67.79        1.9999         135.573221   \n",
        "2013-03-13  52.21  56.29  40.00  40.00       17.1585         877.089393   \n",
        "2013-03-14  70.30  70.30  50.35  50.35        6.8646         375.008903   \n",
        "2013-03-15  49.52  70.96  47.75  48.41       62.4884        3111.258621   \n",
        "\n",
        "            Weighted Price  \n",
        "Date                        \n",
        "2013-03-11       72.000000  \n",
        "2013-03-12       67.790000  \n",
        "2013-03-13       51.116904  \n",
        "2013-03-14       54.629389  \n",
        "2013-03-15       49.789379  "
       ]
      },
      {
       "output_type": "stream",
       "stream": "stdout",
       "text": [
        "\n",
        "  \n",
        "S&P 500 DATA\n",
        "             Open   High    Low  Close   Volume  Adjusted Close\n",
        "Date                                                           \n",
        "1950-01-03  16.66  16.66  16.66  16.66  1260000           16.66\n",
        "1950-01-04  16.85  16.85  16.85  16.85  1890000           16.85\n",
        "1950-01-05  16.93  16.93  16.93  16.93  2550000           16.93\n",
        "1950-01-06  16.98  16.98  16.98  16.98  2010000           16.98\n",
        "1950-01-09  17.08  17.08  17.08  17.08  2520000           17.08\n"
       ]
      }
     ],
     "prompt_number": 2
    },
    {
     "cell_type": "markdown",
     "metadata": {},
     "source": [
      "Let's split up them up into years:"
     ]
    },
    {
     "cell_type": "code",
     "collapsed": false,
     "input": [
      "# Split up the Quandl data into 2013 data\n",
      "df_bitcoin13 = pd.DataFrame() \n",
      "for i in df_bitcoin.index:\n",
      "\tif i.year == 2013: \n",
      "\t\tdf_bitcoin13 = df_bitcoin13.append(df_bitcoin.loc[str(i)])#ignore_index=True)\n",
      "\n",
      "# Split up the Quandl data into 2014 data\n",
      "df_bitcoin14 = pd.DataFrame()\n",
      "for i in df_bitcoin.index:\n",
      "\tif i.year == 2014:\n",
      "\t\tdf_bitcoin14 = df_bitcoin14.append(df_bitcoin.loc[str(i)])\n",
      "\n",
      "# Split up Quandl SP 500 data into 2013 dat\n",
      "df_sp500_13 = pd.DataFrame()\n",
      "for i in df_sp500.index:\n",
      "\tif i.year == 2013:\n",
      "\t\tdf_sp500_13 = df_sp500_13.append(df_sp500.loc[str(i)])\n",
      "        \n",
      "# Split up Quandl SP 500 data into 2013 dat\n",
      "df_sp500_14 = pd.DataFrame()\n",
      "for i in df_sp500.index:\n",
      "\tif i.year == 2014:\n",
      "\t\tdf_sp500_14 = df_sp500_14.append(df_sp500.loc[str(i)])       \n",
      "        "
     ],
     "language": "python",
     "metadata": {},
     "outputs": [],
     "prompt_number": 6
    },
    {
     "cell_type": "markdown",
     "metadata": {},
     "source": [
      "We have our packages and data frames set up, so now we try to answer some questions about Bitcoin.\n",
      "\n",
      "Bitcoin definitely had a tumultous year in 2014. We saw its price drop from extreme highs back down to earth. A big reason for this was the crash of the Mt. Gox Bitcoin exchange in which Bitcoin and its investors lost a lot of value. But besides the Mt. Gox crash, are there other ways to explain the bitcoin crash? There have been quite a few theories and suggestions. A question I raise was how was S&P 500 data during the Bitcoin era. \n",
      "\n",
      "Let's take a look at the 2014 data for both Bitcoin and S&P 500 volume statistics. I created a function to display in scatterplots the data."
     ]
    },
    {
     "cell_type": "code",
     "collapsed": false,
     "input": [
      "def show_2014():\n",
      "\t#Volume 13 and 14\n",
      "\tvol_SP500 = np.array(df_sp500_13['Volume'])\n",
      "\tvol_Bitcoin13 = np.array(df_bitcoin13['Volume (BTC)'])\n",
      "\tvol_Bitcoin14 = np.array(df_bitcoin14['Volume (BTC)'])\n",
      "\tvol_Bitcoin_index = np.array(df_bitcoin13.index)\n",
      "\tarraySP500_index = np.arange(vol_SP500.size)\n",
      "\tarrayBitcoin_index13 = np.arange(vol_Bitcoin13.size)\n",
      "\tarrayBitcoin_index14 = np.arange(vol_Bitcoin14.size)\n",
      "\t#plt.scatter( arraySP500_index, vol_SP500, marker = 'o', color = 'green')\n",
      "\tplt.scatter( arrayBitcoin_index13, vol_Bitcoin13, marker = 'x', color= 'blue')\n",
      "\tplt.scatter( arrayBitcoin_index14, vol_Bitcoin14, marker = 'o', color ='green')\n",
      "\tplt.show()\n",
      "    \n",
      "show_2014()"
     ],
     "language": "python",
     "metadata": {},
     "outputs": [],
     "prompt_number": 7
    },
    {
     "cell_type": "code",
     "collapsed": false,
     "input": [
      "plt.show()"
     ],
     "language": "python",
     "metadata": {},
     "outputs": [],
     "prompt_number": 11
    },
    {
     "cell_type": "code",
     "collapsed": false,
     "input": [],
     "language": "python",
     "metadata": {},
     "outputs": []
    }
   ],
   "metadata": {}
  }
 ]
}